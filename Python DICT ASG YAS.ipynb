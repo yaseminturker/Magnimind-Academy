{
 "cells": [
  {
   "cell_type": "code",
   "execution_count": null,
   "id": "70e8d264",
   "metadata": {},
   "outputs": [],
   "source": [
    "#1- Create a dictionary with 7 days. Ask the user to choose 2 different days by listing the (e.g. \"12\" for Monday and Tuesday). Delete the user-selected days from the dictionary and print the remaining 5 days on the screen.\n",
    "\n",
    "#2- Create a dictionary with the following personnel. Use names as keys.\n",
    "\n",
    "#3- Add child information to Michael and Linda. Michael has two children (Karen (age : 12, female) and Greg (age : 7, male) and Linda has one child (Susan (age: 6, female))\n",
    "\n",
    "#4- Print the names of Michael's children in a list."
   ]
  },
  {
   "cell_type": "code",
   "execution_count": 5,
   "id": "92809e0c",
   "metadata": {},
   "outputs": [
    {
     "name": "stdout",
     "output_type": "stream",
     "text": [
      "Chose two integer in the range 0 - 7, example:12: 34\n",
      "Wednesday\n",
      "Thursday\n",
      "{1: 'Monday', 2: 'Tuesday', 5: 'Friday', 6: 'Saturday', 7: 'Sunday'}\n"
     ]
    }
   ],
   "source": [
    "#1- Create a dictionary with 7 days. Ask the user to choose 2 different days by listing the (e.g. \"12\" for Monday and Tuesday).\n",
    "#Delete the user-selected days from the dictionary and print the remaining 5 days on the screen.\n",
    "\n",
    "\n",
    "X = {1:'Monday',2:'Tuesday',3:'Wednesday',4:'Thursday',5:'Friday',6:'Saturday',7:'Sunday'}\n",
    "len(X)\n",
    "\n",
    "Nums = input (f'Chose two integer in the range 0 - {len(X)}, example:12: ')\n",
    "N1 = int(Nums[0])\n",
    "N2 = int(Nums[1])\n",
    "\n",
    "popped_item1=X.pop(N1)\n",
    "popped_item2=X.pop(N2)\n",
    "print(popped_item1)\n",
    "print(popped_item2)\n",
    "\n",
    "\n",
    "print(X)"
   ]
  },
  {
   "cell_type": "code",
   "execution_count": 10,
   "id": "2d91837e",
   "metadata": {},
   "outputs": [
    {
     "name": "stdout",
     "output_type": "stream",
     "text": [
      "{'Michael': 1, 'Linda': 2}\n"
     ]
    }
   ],
   "source": [
    "#2- Create a dictionary with the following personnel. Use names as keys.\n",
    "\n",
    "#Personnel_names = {1:'Michael',2: 'Linda'}\n",
    "\n",
    "personnel_names = {'Michael':1,'Linda':2}\n",
    "\n",
    "print(personnel_names)"
   ]
  },
  {
   "cell_type": "code",
   "execution_count": 37,
   "id": "48c11ccc",
   "metadata": {},
   "outputs": [
    {
     "name": "stdout",
     "output_type": "stream",
     "text": [
      "The childeren of Michael:  {'Michael1': {'name': 'Karen', 'age': '12', 'sex': 'female'}, 'Michael2': {'name': 'Greg', 'age': '7', 'sex': 'male'}}\n",
      "The childeren of Linda:  {'Linda': {'name': 'Susan', 'age': '6', 'sex': 'female'}}\n"
     ]
    }
   ],
   "source": [
    "\n",
    "#3- Add child information to Michael and Linda. Michael has two children (Karen (age : 12, female) and Greg (age : 7, male)\n",
    "#Linda has one child (Susan (age: 6, female))\n",
    "\n",
    "X = {'Michael1':{'name':'Karen','age':'12', 'sex':'female'},'Michael2':{'name':'Greg','age':'7', 'sex':'male'}}\n",
    "print ('The childeren of Michael: ',X)\n",
    "\n",
    "Y = {'Linda': {'name': 'Susan','age':'6', 'sex':'female'}}\n",
    "print ('The childeren of Linda: ',Y)"
   ]
  },
  {
   "cell_type": "code",
   "execution_count": 70,
   "id": "c2d12c5a",
   "metadata": {},
   "outputs": [
    {
     "name": "stdout",
     "output_type": "stream",
     "text": [
      "['Karen', 'Greg']\n"
     ]
    }
   ],
   "source": [
    "#4- Print the names of Michael's children in a list\n",
    "\n",
    "X = {'Michael1':{'name':'Karen','age':'12', 'sex':'female'},'Michael2':{'name':'Greg','age':'7', 'sex':'male'}}\n",
    "\n",
    " \n",
    "Michael_child_list = [X['Michael1']['name']] + [X['Michael2']['name']]\n",
    "\n",
    "print (Michael_child_list)"
   ]
  },
  {
   "cell_type": "code",
   "execution_count": null,
   "id": "6c39d114",
   "metadata": {},
   "outputs": [],
   "source": []
  },
  {
   "cell_type": "code",
   "execution_count": null,
   "id": "a32be373",
   "metadata": {},
   "outputs": [],
   "source": []
  }
 ],
 "metadata": {
  "kernelspec": {
   "display_name": "Python 3 (ipykernel)",
   "language": "python",
   "name": "python3"
  },
  "language_info": {
   "codemirror_mode": {
    "name": "ipython",
    "version": 3
   },
   "file_extension": ".py",
   "mimetype": "text/x-python",
   "name": "python",
   "nbconvert_exporter": "python",
   "pygments_lexer": "ipython3",
   "version": "3.9.12"
  }
 },
 "nbformat": 4,
 "nbformat_minor": 5
}
