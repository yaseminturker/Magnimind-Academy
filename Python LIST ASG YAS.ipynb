{
 "cells": [
  {
   "cell_type": "code",
   "execution_count": 4,
   "id": "544620af",
   "metadata": {},
   "outputs": [
    {
     "name": "stdout",
     "output_type": "stream",
     "text": [
      " Sum of the two lowest numbers : 14\n",
      " Sum of the two highest numbers : 174\n"
     ]
    }
   ],
   "source": [
    "#1- Write a code to compute the sum of the two lowest numbers and the two highest numbers in the following list.\n",
    "\n",
    "#my_list = [34, 56, 76, 45, 2, 12, 67, 98, 37, 54, 66],\n",
    "\n",
    "X = [34, 56, 76, 45, 2, 12, 67, 98, 37, 54, 66]\n",
    "X.sort()\n",
    "\n",
    "Z=sum(X[0:2])\n",
    "A=sum(X[-2:])\n",
    "\n",
    "\n",
    "print( ' Sum of the two lowest numbers :', Z)\n",
    "print( ' Sum of the two highest numbers :', A)\n",
    "\n",
    "    "
   ]
  },
  {
   "cell_type": "code",
   "execution_count": 5,
   "id": "4053597e",
   "metadata": {},
   "outputs": [
    {
     "name": "stdout",
     "output_type": "stream",
     "text": [
      "[['January', 31], ['February', 28], ['March', 31], ['April', 30], ['May', 31], ['June', 30], ['July', 31], ['August', 31], ['September', 30], ['October', 31], ['November', 30], ['December', 31]]\n"
     ]
    }
   ],
   "source": [
    "#4 - can confuse about how many days a month is. Create a list to handle it. \n",
    "#You will have month names and day counts in your list together as a nested list.\n",
    "\n",
    "monthlist = [['January',31], ['February',28], ['March',31], ['April',30],['May',31], ['June',30], ['July', 31], ['August',31], ['September',30], ['October', 31], ['November',30], ['December', 31] ]\n",
    "\n",
    "print(monthlist)"
   ]
  },
  {
   "cell_type": "code",
   "execution_count": 6,
   "id": "feaa5c9b",
   "metadata": {},
   "outputs": [
    {
     "name": "stdout",
     "output_type": "stream",
     "text": [
      "winter_months : ['December', 31, ['January', 31], ['February', 28]]\n",
      "Spring_months : [['March', 31], ['April', 30], ['May', 31]]\n",
      "Summer_months : [['June', 30], ['July', 31], ['August', 31]]\n",
      "Autumn_months : [['September', 30], ['October', 31], ['November', 30]]\n"
     ]
    }
   ],
   "source": [
    "#5-Now create lists of months for each season.Get month names and day counts from the list that you create before with slicing. \n",
    "#Name the lists with seasons.\n",
    "\n",
    "X = monthlist[-1]+ monthlist[0:2]\n",
    "Y = monthlist[2:5]\n",
    "Z= monthlist[5:8]\n",
    "A = monthlist[-4:-1]\n",
    "\n",
    "print ('winter_months :' ,X  )\n",
    "print ('Spring_months :' ,Y )\n",
    "print ('Summer_months :' ,Z)\n",
    "print ('Autumn_months :' ,A)"
   ]
  },
  {
   "cell_type": "code",
   "execution_count": 9,
   "id": "eb7885d8",
   "metadata": {},
   "outputs": [
    {
     "name": "stdout",
     "output_type": "stream",
     "text": [
      "Total summer days: 92\n"
     ]
    }
   ],
   "source": [
    "#6-Finally, from the list in the previous question, calculate how many days the summer season lasts.\n",
    "\n",
    "Z= monthlist[5:8]\n",
    "\n",
    "June=Z[0][1]\n",
    "July=Z[1][1]\n",
    "August=Z[2][1]\n",
    "\n",
    "\n",
    "totalsummerdays=June+July+August\n",
    "\n",
    "print('Total summer days:',totalsummerdays)"
   ]
  },
  {
   "cell_type": "code",
   "execution_count": null,
   "id": "03fb1e92",
   "metadata": {},
   "outputs": [],
   "source": []
  }
 ],
 "metadata": {
  "kernelspec": {
   "display_name": "Python 3 (ipykernel)",
   "language": "python",
   "name": "python3"
  },
  "language_info": {
   "codemirror_mode": {
    "name": "ipython",
    "version": 3
   },
   "file_extension": ".py",
   "mimetype": "text/x-python",
   "name": "python",
   "nbconvert_exporter": "python",
   "pygments_lexer": "ipython3",
   "version": "3.9.12"
  }
 },
 "nbformat": 4,
 "nbformat_minor": 5
}
