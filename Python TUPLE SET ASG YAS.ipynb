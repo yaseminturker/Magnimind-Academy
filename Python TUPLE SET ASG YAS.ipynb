{
 "cells": [
  {
   "cell_type": "code",
   "execution_count": null,
   "id": "e4e050b1",
   "metadata": {},
   "outputs": [],
   "source": [
    "1- Create a tuple named \"week\" containing weekdays.\n",
    "2- Create a set named \"fruits\" containing followings: apple, mango, orange\n",
    "3- Create a new set named \"new_fruits\" containing followings: cherry, peach, apple, mango\n",
    "4- Find the fruits which are in new_fruits but not in fruits.\n",
    "5- Find the fruits which are in both new_fruits and fruits."
   ]
  },
  {
   "cell_type": "code",
   "execution_count": null,
   "id": "4bbbc93d",
   "metadata": {},
   "outputs": [],
   "source": [
    "#1- Create a tuple named \"week\" containing weekdays."
   ]
  },
  {
   "cell_type": "code",
   "execution_count": 5,
   "id": "4c9b957c",
   "metadata": {},
   "outputs": [
    {
     "name": "stdout",
     "output_type": "stream",
     "text": [
      "('Monday', 'Tuesday', 'Wednesday', 'Thursday', 'Friday', 'Saturday', 'Sunday')\n"
     ]
    }
   ],
   "source": [
    "week = ('Monday','Tuesday','Wednesday','Thursday','Friday','Saturday','Sunday')\n",
    "print (week)"
   ]
  },
  {
   "cell_type": "code",
   "execution_count": 10,
   "id": "a5a1b423",
   "metadata": {},
   "outputs": [
    {
     "name": "stdout",
     "output_type": "stream",
     "text": [
      "{'mango', 'orange', 'apple'}\n"
     ]
    }
   ],
   "source": [
    "#2- Create a set named \"fruits\" containing followings: apple, mango, orange\n",
    "fruits = {'apple', 'mango', 'orange'}\n",
    "print(fruits)\n"
   ]
  },
  {
   "cell_type": "code",
   "execution_count": 12,
   "id": "54ebc73c",
   "metadata": {},
   "outputs": [
    {
     "name": "stdout",
     "output_type": "stream",
     "text": [
      "{'mango', 'cherry', 'peach', 'apple'}\n"
     ]
    }
   ],
   "source": [
    "#3- Create a new set named \"new_fruits\" containing followings: cherry, peach, apple, mango\n",
    "\n",
    "new_fruits = {'cherry', 'peach', 'apple','mango'}\n",
    "print(new_fruits)"
   ]
  },
  {
   "cell_type": "code",
   "execution_count": 13,
   "id": "9ed56367",
   "metadata": {},
   "outputs": [
    {
     "name": "stdout",
     "output_type": "stream",
     "text": [
      "{'cherry', 'peach'}\n"
     ]
    }
   ],
   "source": [
    "#4- Find the fruits which are in new_fruits but not in fruits\n",
    "\n",
    "print(new_fruits.difference(fruits))"
   ]
  },
  {
   "cell_type": "code",
   "execution_count": 16,
   "id": "92ce1e20",
   "metadata": {},
   "outputs": [
    {
     "name": "stdout",
     "output_type": "stream",
     "text": [
      "{'mango', 'apple'}\n"
     ]
    }
   ],
   "source": [
    "#5- Find the fruits which are in both new_fruits and fruits.\n",
    "\n",
    "print(fruits.intersection(new_fruits))\n"
   ]
  },
  {
   "cell_type": "code",
   "execution_count": null,
   "id": "2226f38d",
   "metadata": {},
   "outputs": [],
   "source": []
  }
 ],
 "metadata": {
  "kernelspec": {
   "display_name": "Python 3 (ipykernel)",
   "language": "python",
   "name": "python3"
  },
  "language_info": {
   "codemirror_mode": {
    "name": "ipython",
    "version": 3
   },
   "file_extension": ".py",
   "mimetype": "text/x-python",
   "name": "python",
   "nbconvert_exporter": "python",
   "pygments_lexer": "ipython3",
   "version": "3.9.12"
  }
 },
 "nbformat": 4,
 "nbformat_minor": 5
}
